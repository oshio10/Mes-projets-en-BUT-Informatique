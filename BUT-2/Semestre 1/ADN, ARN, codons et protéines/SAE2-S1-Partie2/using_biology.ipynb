{
 "cells": [
  {
   "cell_type": "markdown",
   "id": "a023b3ed",
   "metadata": {},
   "source": [
    "# Notebook de présentation de la SAE S01.02"
   ]
  },
  {
   "cell_type": "markdown",
   "id": "47840237",
   "metadata": {},
   "source": [
    "## Binôme \n",
    "\n",
    "* Faty LO\n",
    "* Yassine BELLAGRAA"
   ]
  },
  {
   "cell_type": "markdown",
   "id": "00ab11d9",
   "metadata": {},
   "source": [
    "**Partie 2**"
   ]
  },
  {
   "cell_type": "markdown",
   "id": "043fe8df",
   "metadata": {},
   "source": [
    "Le séquençage des acides aminés ne commence que lorsque le codon start est rencontré. Ce codon est le codon ``AUG``. \n",
    "On appelle séquence codante l'ensemble des codons compris entre le codon start et un codon stop. Dans une séquence codante, le codon ``AUG`` correspond à l'acide aminé Methionine.  \n",
    "Une séquence de codons peut contenir  zéro, une ou plusieurs séquences codantes.  \n",
    "Par exemple, la séquence ``\"CGU\", \"UUU\", \"AUG\", \"CGU\", \"AUG\", \"UAA\", \"AAU\", \"AUG\", \"GGG\", \"CCC\",  \"CGU\", \"UAG\", \"GGG\"`` contient deux séquences codantes : ``\"CGU\",  \"AUG\"`` et ``\"GGG\", \"CCC\", \"CGU\"`` puisque ``\"UAA\"`` et ``\"UAG\"`` sont des codons stop.\n",
    "\n",
    "\n",
    "**Remarque** : Une séquence codante est délimitée par le codon start et un codon stop. Si la séquence de codons ne contient aucun codon stop, alors il n'y a pas de séquence codante."
   ]
  },
  {
   "cell_type": "markdown",
   "id": "8a1a9c54",
   "metadata": {},
   "source": [
    "**Question 1**  \n",
    "\n",
    "Définir la fonction `nextIndice` prenant en paramètre un tableau `tab`, un indice `ind` de `tab`, et un deuxième tableau `elements`. La fonction recherche dans le tableau `tab` à partir de l'indice `ind` et retourne l'indice de la première case du tableau `tab` contenant une valeur de `elements`.\n",
    "\n",
    "Par exemple, l'appel de la fonction `nextIndice` avec le tableau `tab` égal à `[\"bonjour\", \"hello\", \"buongiorno\", \"ciao\", \"bye\"]`, et le tableau `elements` égal à `[\"hello\", \"bye\"]` doit retourner 1 si `ind` est inférieur ou égal à 1 lors de l'appel, et 4 sinon.\n",
    "\n",
    "**Remarque** : si aucune valeur de `elements` n'apparaît dans `tab` à partir de l'indice `ind`, la fonction doit renvoyer la valeur `len(tab)`."
   ]
  },
  {
   "cell_type": "code",
   "execution_count": 7,
   "id": "1e71bb36",
   "metadata": {
    "scrolled": true
   },
   "outputs": [
    {
     "name": "stdout",
     "output_type": "stream",
     "text": [
      "la fonction nextIndice est fonctionnelle\n"
     ]
    }
   ],
   "source": [
    "from test_biology import test_nextIndice\n",
    "\n",
    "test_nextIndice()"
   ]
  },
  {
   "cell_type": "markdown",
   "id": "7bad7849",
   "metadata": {},
   "source": [
    "**Question 2**  \n",
    "\n",
    "\n",
    "Définir la fonction `decoupe_sequence` prenant en paramètre trois tableaux `seq`, `start` et `stop`. La fonction doit découper le tableau `seq` en séquences et retourner un tableau contenant les différents morceaux. Un morceau dans le tableau `seq` est une partie non vide de `seq` comprise entre une valeur de `start` et une valeur de `stop`.\n",
    "\n",
    "L'appel de la fonction `decoupe_sequence` avec les tableaux\n",
    "``` python \n",
    "seq = [\"val1\", \"début\", \"val2\", \"val3\", \"end\", \"val4\", \"fin\", \"begin\", \"val5\", \"fin\", \"val6\"]\n",
    "start = [\"début\", \"begin\"]\n",
    "stop = [\"fin\", \"end\"]\n",
    "```\n",
    "doit retourner\n",
    "``` python\n",
    "[\n",
    "    [\"val2\", \"val3\"],\n",
    "    [\"val5\"]\n",
    "]\n",
    "```"
   ]
  },
  {
   "cell_type": "code",
   "execution_count": 8,
   "id": "7c35037c",
   "metadata": {},
   "outputs": [
    {
     "name": "stdout",
     "output_type": "stream",
     "text": [
      "la fonction decoupe_sequence est fonctionnelle\n"
     ]
    }
   ],
   "source": [
    "from test_biology import test_decoupe_sequence\n",
    "\n",
    "test_decoupe_sequence()"
   ]
  },
  {
   "cell_type": "markdown",
   "id": "ef786c8e",
   "metadata": {},
   "source": [
    "**Question 3**\n",
    "\n",
    "Définir la fonction `codons_to_seq_codantes` qui prend en paramètre une séquence de codons et le dictionnaire de correspondance entre codons et acides aminés, et découpe la séquence de codons en séquences codantes. Les différentes séquences sont stockées dans un tableau. L'apel de la fonction `codons_to_seq_codantes` avec la séquence  `[\"CGU\", \"UUU\", \"AUG\", \"CGU\", \"AUG\", \"AAU\", \"UAA\", \"AUG\", \"GGG\", \"CCC\",  \"CGU\", \"UAG\", \"GGG\"]` doit retourner le tableau :\n",
    "``` python\n",
    "[\n",
    "    [\"CGU\", \"AUG\", \"AAU\"],\n",
    "    [\"GGG\", \"CCC\", \"CGU\"]\n",
    "]\n",
    "```\n",
    "\n",
    "**Remarque** : la fonction ne doit pas retourner de séquence codante vide."
   ]
  },
  {
   "cell_type": "code",
   "execution_count": 9,
   "id": "b77268ef",
   "metadata": {},
   "outputs": [
    {
     "name": "stdout",
     "output_type": "stream",
     "text": [
      "la fonction codons_to_seq_codantes est fonctionnelle\n"
     ]
    }
   ],
   "source": [
    "from test_biology import test_codons_to_seq_codantes\n",
    "\n",
    "test_codons_to_seq_codantes()"
   ]
  },
  {
   "cell_type": "markdown",
   "id": "f6e5ab3d",
   "metadata": {},
   "source": [
    "**Question 4**\n",
    "\n",
    "Définir la fonction `seq_codantes_to_seq_aas` prenant en paramètre un tableau de séquences codantes (même type que les valeurs retournées par la fonction précédente)  et le dictionnaire de correspondance entre codons et acides aminés, et retournant un tableau contenant les différentes séquences d'acides aminés codées par les différentes séquences codantes. L'appel de la fonction `seq_codantes_to_seq_aas` avec le tableau retourné dans l'exemple de la fonction `codons_to_seq_codantes` doit retourner le tableau :\n",
    "\n",
    "``` python\n",
    "[\n",
    "    [\"Arginine\", \"Methionine\", \"Asparagine\"],\n",
    "    [\"Glycine\", \"Proline\", \"Arginine\"]\n",
    "]\n",
    "```"
   ]
  },
  {
   "cell_type": "code",
   "execution_count": 10,
   "id": "e2707e4a",
   "metadata": {},
   "outputs": [
    {
     "name": "stdout",
     "output_type": "stream",
     "text": [
      "la fonction seq_codantes_to_seq_aas est fonctionnelle\n"
     ]
    }
   ],
   "source": [
    "from test_biology import test_seq_codantes_to_seq_aas\n",
    "\n",
    "test_seq_codantes_to_seq_aas()"
   ]
  },
  {
   "cell_type": "markdown",
   "id": "d05ef9a3",
   "metadata": {},
   "source": [
    "**Question 5**\n",
    "\n",
    "Définir la fonction `adn_encode_molecule` prenant en parmètre un brin d'ADN, le dictionnaire de correspondance entre codons et acides aminés et une molécule (séquence d'acide aminées). La fonction doit retourner `True` si l'ARN obtenu à partir de l'ADN puis découpé en codons contient une séquence codante correspondant à la molécule, c'est-à-dire si la séquence d'acide aminée correspondant à une séquence codante est la même que la molécule.\n",
    "Par exemple, l'appel de la fonction `adn_encode_molecule` avec l'ADN `\"CGTTTTATGCGTATGAATTAAATGGGGCCCCGTTAGGGG\"` et la molécule `[\"Glycine\", \"Proline\", \"Arginine\"]` doit retourner `True`."
   ]
  },
  {
   "cell_type": "code",
   "execution_count": 11,
   "id": "dd47f87c",
   "metadata": {},
   "outputs": [
    {
     "name": "stdout",
     "output_type": "stream",
     "text": [
      "la fonction adn_encode_molecule est fonctionnelle\n"
     ]
    }
   ],
   "source": [
    "from test_biology import test_adn_encode_molecule\n",
    "\n",
    "test_adn_encode_molecule()"
   ]
  }
 ],
 "metadata": {
  "kernelspec": {
   "display_name": "Python 3",
   "language": "python",
   "name": "python3"
  },
  "language_info": {
   "codemirror_mode": {
    "name": "ipython",
    "version": 3
   },
   "file_extension": ".py",
   "mimetype": "text/x-python",
   "name": "python",
   "nbconvert_exporter": "python",
   "pygments_lexer": "ipython3",
   "version": "3.8.8"
  }
 },
 "nbformat": 4,
 "nbformat_minor": 5
}
