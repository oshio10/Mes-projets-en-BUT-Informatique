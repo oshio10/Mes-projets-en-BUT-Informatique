{
 "cells": [
  {
   "cell_type": "markdown",
   "id": "a023b3ed",
   "metadata": {},
   "source": [
    "# Notebook de présentation de la SAE S01.02"
   ]
  },
  {
   "cell_type": "markdown",
   "id": "47840237",
   "metadata": {},
   "source": [
    "## Binôme \n",
    "\n",
    "* Faty LO\n",
    "* Yassine BELLAGRAA"
   ]
  },
  {
   "cell_type": "markdown",
   "id": "5fa12d63",
   "metadata": {},
   "source": [
    "**Partie 1**"
   ]
  },
  {
   "cell_type": "markdown",
   "id": "043fe8df",
   "metadata": {},
   "source": [
    "Les exercices s'appuient sur la notion d'[ADN](https://fr.wikipedia.org/wiki/Acide_d%C3%A9soxyribonucl%C3%A9ique)/[ARN](https://fr.wikipedia.org/wiki/Acide_ribonucl%C3%A9ique). On supposera dans l'ensemble des exercices que l'ADN est codé sous la forme d'une chaîne  \n",
    "de caractères contenant uniquement les lettres majuscules `A`, `T`, `G`, `C` correspondant aux différentes bases (adénine, cytosine, guanine ou  \n",
    "thymine). L'ARN sera codé sous la forme d'une chaîne de caractères contenant uniquement les lettres majuscules `A`, `U`, `G`, `C`."
   ]
  },
  {
   "cell_type": "markdown",
   "id": "8a1a9c54",
   "metadata": {},
   "source": [
    "**Question 1**  \n",
    "\n",
    "Définir la fonction `est_base` prenant en paramètre un caractère et retournant `True` si ce caractère correspond à une base de l'ADN (est un  \n",
    "des caractères `A`, `T`, `G`, `C`), et `False` sinon.\n",
    "\n",
    "\n",
    "À titre d'exemple, l'appel de la fonction `est_base` avec la valeur `\"A\"` doit retourner `True` alors que l'appel avec la valeur `\"z\"` doit retourner  \n",
    "`False`."
   ]
  },
  {
   "cell_type": "code",
   "execution_count": null,
   "id": "738300c9",
   "metadata": {},
   "outputs": [],
   "source": [
    "from test_biology import test_est_base\n",
    "\n",
    "test_est_base()"
   ]
  },
  {
   "cell_type": "markdown",
   "id": "24acc382",
   "metadata": {},
   "source": [
    "**Question 2**  \n",
    "\n",
    "Définir la fonction `est_adn` prenant en paramètre une chaîne de caractères et retournant `True` si la chaîne correspond à un ADN (est  \n",
    "constituée uniquement des caractères `A`, `T`, `G`, `C`), et `False` sinon.\n",
    "\n",
    "À titre d'exemple, l'appel de la fonction `est_adn` avec la valeur `\"ATGTCAAA\"` doit retourner `True` alors que l'appel avec la valeur    \n",
    "`\"ATBOAATG\"` doit retourner `False`."
   ]
  },
  {
   "cell_type": "code",
   "execution_count": null,
   "id": "8926a1f7",
   "metadata": {},
   "outputs": [],
   "source": [
    "from test_biology import test_est_adn\n",
    "\n",
    "test_est_adn()"
   ]
  },
  {
   "cell_type": "markdown",
   "id": "9731e3e5",
   "metadata": {},
   "source": [
    "**Question 3**  \n",
    "\n",
    "L'ARN est construit à partir de l'ADN en remplaçant la thymine `T` par l'uracile codé par la lettre `U`. Ainsi la transcription de la séquence ADN  \n",
    "`ATTGCA` en ARN donne `AUUGCA`.  \n",
    "\n",
    "Définir la fonction `arn` prenant en paramètre une séquence d'ADN et retournant la séquence ARN associée.  \n",
    "\n",
    "À titre d'exemple, l'appel de la fonction `arn` avec la valeur `\"ATGTCAAA\"` doit retourner `\"AUGUCAAA\"`.  \n",
    "\n",
    "**Attention** : si la chaîne passée en paramètre ne correspond pas à de l'ADN, la fonction `arn` doit retourner la valeur `None`."
   ]
  },
  {
   "cell_type": "code",
   "execution_count": null,
   "id": "1a69831b",
   "metadata": {},
   "outputs": [],
   "source": [
    "from test_biology import test_arn\n",
    "\n",
    "test_arn()"
   ]
  },
  {
   "cell_type": "markdown",
   "id": "7b4ecfce",
   "metadata": {},
   "source": [
    "**Question 4**  \n",
    "\n",
    "Un codon est une séquence de trois bases sur un ARN (messager) spécifiant l'un des 22 acides aminés protéinogènes dont la succession sur  \n",
    "l'ARN détermine la structure primaire de la protéine à synthétiser (*définition issue de Wikipedia*).\n",
    "\n",
    "\n",
    "Définir la fonction `arn_to_codons` prenant en paramètre une chaîne de caractères correspondant à de l'ARN et découpant cet ARN en codons.  \n",
    "La fonction doit retourner un tableau contenant la liste des codons. Par exemple, l'appel de la fonction `arn_to_codons` avec l'ARN  \n",
    "`\"CGUUAGGGG\"` doit retourner le tableau `[\"CGU\", \"UAG\", \"GGG\"]`.\n",
    "\n",
    "\n",
    "**Remarque** : Si le nombre de nucléotides dans l'ARN n'est pas un multiple de 3, les derniers sont ignorés. Par exemple, les ARN `\"CGUAAU\"` et  \n",
    "`\"CGUAAUGC\"` donnent tous les deux la séquence de codons `[\"CGU\", \"AAU\"]`."
   ]
  },
  {
   "cell_type": "code",
   "execution_count": null,
   "id": "2ba0cc39",
   "metadata": {},
   "outputs": [],
   "source": [
    "from test_biology import test_arn_to_codons\n",
    "\n",
    "test_arn_to_codons()"
   ]
  },
  {
   "cell_type": "markdown",
   "id": "377a78b7",
   "metadata": {},
   "source": [
    "**Question 5**\n",
    "\n",
    "Chaque codon correspond à un acide aminé. Par exemple, le codon `UUU` correspond à l'acide aminé Phenylalanine. Plusieurs codons  \n",
    "correspondent à un même acide aminé. Certains codons, correspondant à la fin du séquençage des acides aminés, sont appelés *codons stop*. \n",
    "\n",
    "C'est le cas du codon `UAA` par exemple.  \n",
    "\n",
    "Le fichier `data/codons_aa.json` contient la correspondance entre codons et acides aminés au format JSON. Les codons qui ne sont pas dans le fichier sont les codons stop.\n",
    "\n",
    "\n",
    "* Définir la fonction `load_dico_codons_aa` qui prend en paramètre un fichier au format JSON et retourne la structure de données chargée en mémoire à partir du JSON.\n",
    "\n",
    "\n",
    "* Définir la fonction `codons_stop` prenant en paramètre un dictionnaire dont les clés sont les codons et les valeurs les acides aminés correspondants (chaînes de caractères). La fonction retournera un tableau contenant l'ensemble des codons stop, c'est-à-dire l'ensemble des codons possibles avec les caractères `AUGC` qui ne sont pas des clés du dictionnaire.\n",
    "\n",
    "\n",
    "**Remarque:** Créer une variable initialisée avec les données contenues dans un fichier au format JSON se fait très facilement en python. Pour plus d'information, relire la fin du [cours 9 du module M1102](https://github.com/iutVilletaneuseDptInfo/M1102/blob/master/09_Dictionnnaires/cours9.ipynb).\n",
    "  \n",
    "   \n",
    "   "
   ]
  },
  {
   "cell_type": "code",
   "execution_count": null,
   "id": "969f90ea",
   "metadata": {},
   "outputs": [],
   "source": [
    "from test_biology import test_load_dico_codons_aa, test_codons_stop\n",
    "\n",
    "test_load_dico_codons_aa()\n",
    "test_codons_stop()"
   ]
  },
  {
   "cell_type": "markdown",
   "id": "9e8a71c1",
   "metadata": {},
   "source": [
    "**Question 6**  \n",
    "Définir la fonction `codons_to_aa` prenant en paramètre un tableau de codons (correspondant par exemple à une valeur retournée par la fonction `arn_to_codons`) et le dictionnaire de correspondance entre codons et acides aminés. La fonction devra retourner un tableau contenant les acides aminés correspondant aux codons.\n",
    "\n",
    "\n",
    "**Attention :** Si l'un des codons est un codon stop, alors la synthèse (traduction des codons en acides aminés) s'arrête. Par exemple, si le tableau de codons passé en paramètre est `[\"CGU\", \"AAU\", \"UAA\", \"GGG\", \"CGU\"]`, alors le tableau retourné doit être `[\"Arginine\", \"Asparagine\"]` car le codon `CGU` correspond à l'Arginine, le codon `AAU` correspond à l'asparagine et `UAA` est un codon stop."
   ]
  },
  {
   "cell_type": "code",
   "execution_count": null,
   "id": "b33647c4",
   "metadata": {},
   "outputs": [],
   "source": [
    "from test_biology import test_codons_to_aa\n",
    "\n",
    "test_codons_to_aa()"
   ]
  }
 ],
 "metadata": {
  "kernelspec": {
   "display_name": "Python 3",
   "language": "python",
   "name": "python3"
  },
  "language_info": {
   "codemirror_mode": {
    "name": "ipython",
    "version": 3
   },
   "file_extension": ".py",
   "mimetype": "text/x-python",
   "name": "python",
   "nbconvert_exporter": "python",
   "pygments_lexer": "ipython3",
   "version": "3.8.8"
  }
 },
 "nbformat": 4,
 "nbformat_minor": 5
}
